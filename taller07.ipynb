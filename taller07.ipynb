{
 "cells": [
  {
   "cell_type": "markdown",
   "metadata": {},
   "source": [
    "# Estructura de Datos\n",
    "\n",
    "\n",
    "\n",
    "### Taller 07 - Pilas\n",
    "\n",
    "Nombre del primer integrante:\n",
    "\n",
    "Nombre del segundo integrante:\n",
    "\n",
    "---"
   ]
  },
  {
   "cell_type": "markdown",
   "metadata": {
    "editable": false,
    "slideshow": {
     "slide_type": ""
    },
    "tags": []
   },
   "source": [
    "## Ejercicio 1:\n",
    "\n",
    "a) Defina una _dataclass_ llamada **Punto** que permita manejar las coordenadas X e Y del punto. La clase debe tener solamente estos dos atributos.\n",
    "\n",
    "b) Escriba una función externa llamada `puntos_en_los_ejes` que reciba una pila de puntos y que retorne la cantidad de puntos de la pila que se encuentra en algunos de los ejes cartesianso. **La pila original no debe verse modificada**."
   ]
  },
  {
   "cell_type": "code",
   "execution_count": null,
   "metadata": {
    "editable": false,
    "slideshow": {
     "slide_type": ""
    },
    "tags": []
   },
   "outputs": [],
   "source": [
    "# Ejecute este código primero antes que todo para traer la clase departamento\n",
    "\n",
    "!rm ean_estructuras_datos.py\n",
    "!wget https://github.com/luiscobo/eands-20250-s1/raw/refs/heads/main/ean_estructuras_datos.py"
   ]
  },
  {
   "cell_type": "code",
   "execution_count": null,
   "metadata": {
    "editable": true,
    "slideshow": {
     "slide_type": ""
    },
    "tags": []
   },
   "outputs": [],
   "source": [
    "from ean_estructuras_datos import Pila\n",
    "from dataclasses import dataclass\n",
    "\n",
    "# Ejercicio 1: la dataclass Punto\n",
    "\n",
    "\n",
    "# --------------------------------------------------------\n",
    "\n",
    "# Ejercicio 1b: función puntos_en_los_ejes\n"
   ]
  },
  {
   "cell_type": "markdown",
   "metadata": {
    "editable": false,
    "slideshow": {
     "slide_type": ""
    },
    "tags": []
   },
   "source": [
    "---\n",
    "\n",
    "Prueba del Ejercicio 1"
   ]
  },
  {
   "cell_type": "code",
   "execution_count": null,
   "metadata": {
    "editable": false,
    "slideshow": {
     "slide_type": ""
    },
    "tags": []
   },
   "outputs": [],
   "source": [
    "import unittest\n",
    "\n",
    "# Prueba de Ejercicio01\n",
    "class TestEjercicio01(unittest.TestCase):\n",
    "    def test_ejercicio1(self):\n",
    "        puntos = Pila[Punto]()\n",
    "        puntos.apilar(Punto(2.0, 4.0))\n",
    "        puntos.apilar(Punto(-5.0, 1.0))\n",
    "        puntos.apilar(Punto(0.0, -4.0))\n",
    "        puntos.apilar(Punto(1.0, -24.0))\n",
    "        puntos.apilar(Punto(10.0, -25.0))\n",
    "        puntos.apilar(Punto(0.0, 0.0))\n",
    "        puntos.apilar(Punto(-12.0, 35.0))\n",
    "        puntos.apilar(Punto(10.0, 0.0))\n",
    "        puntos.apilar(Punto(-80.0, -45.0))\n",
    "\n",
    "        self.assertEqual(3, puntos_en_los_ejes(puntos))\n",
    "        print(\"Prueba Superada ✔\")\n",
    "\n",
    "# -------------------------------------------------------\n",
    "unittest.main(argv=['', '-v', 'TestEjercicio01'], verbosity=2, exit=False);"
   ]
  },
  {
   "cell_type": "markdown",
   "metadata": {
    "editable": false,
    "slideshow": {
     "slide_type": ""
    },
    "tags": []
   },
   "source": [
    "---\n",
    "\n",
    "## Ejercicio 2: Contar verbos\n",
    "\n",
    "Escriba una función externa en Python llamada `contar_verbos`, la cual reciba una pila de palabras\n",
    "y debe retornar cuántas de esas palabras son verbos. **La pila original no debe verse modificada**."
   ]
  },
  {
   "cell_type": "code",
   "execution_count": null,
   "metadata": {
    "editable": true,
    "slideshow": {
     "slide_type": ""
    },
    "tags": []
   },
   "outputs": [],
   "source": [
    "# Ejercicio 02: contar verbos\n",
    "\n"
   ]
  },
  {
   "cell_type": "markdown",
   "metadata": {
    "editable": false,
    "slideshow": {
     "slide_type": ""
    },
    "tags": []
   },
   "source": [
    "---\n",
    "Prueba del ejercicio 02"
   ]
  },
  {
   "cell_type": "code",
   "execution_count": null,
   "metadata": {
    "editable": false,
    "slideshow": {
     "slide_type": ""
    },
    "tags": []
   },
   "outputs": [],
   "source": [
    "import unittest\n",
    "\n",
    "# Prueba de Ejercicio02\n",
    "class TestEjercicio02(unittest.TestCase):\n",
    "    def test_ejercicio2(self):\n",
    "        palabras = Pila[str]()\n",
    "        palabras.apilar(\"casa\")\n",
    "        palabras.apilar(\"casar\")\n",
    "        palabras.apilar(\"yuca\")\n",
    "        palabras.apilar(\"camisa\")\n",
    "        palabras.apilar(\"lluvia\")\n",
    "        palabras.apilar(\"llover\")\n",
    "        palabras.apilar(\"vives\")\n",
    "        palabras.apilar(\"vivir\")\n",
    "        palabras.apilar(\"partir\")\n",
    "        palabras.apilar(\"toma\")\n",
    "        palabras.apilar(\"épico\")\n",
    "        palabras.apilar(\"abrigo\")\n",
    "        palabras.apilar(\"rumor\")\n",
    "\n",
    "        self.assertEqual(4, contar_verbos(palabras))\n",
    "        print(\"Prueba Superada ✔\")\n",
    "\n",
    "# -------------------------------------------------------\n",
    "unittest.main(argv=['', '-v', 'TestEjercicio02'], verbosity=2, exit=False);"
   ]
  },
  {
   "cell_type": "markdown",
   "metadata": {
    "editable": false,
    "slideshow": {
     "slide_type": ""
    },
    "tags": []
   },
   "source": [
    "---\n",
    "\n",
    "## Ejercicio 03: El punto más lejano\n",
    "\n",
    "Escriba una función externa llamada `punto_mas_lejano` que recibe una pila de puntos y \n",
    "retorna el punto de la pila que está en el tercer cuadrante y que está más lejos del origen.\n",
    "\n",
    "Si no se encuentra ese punto, deberá retornarse `None`. **La pila original no debe verse modificada**"
   ]
  },
  {
   "cell_type": "code",
   "execution_count": null,
   "metadata": {
    "editable": true,
    "slideshow": {
     "slide_type": ""
    },
    "tags": []
   },
   "outputs": [],
   "source": [
    "from math import sqrt\n",
    "\n",
    "# Ejercicio 03\n"
   ]
  },
  {
   "cell_type": "markdown",
   "metadata": {
    "editable": false,
    "slideshow": {
     "slide_type": ""
    },
    "tags": []
   },
   "source": [
    "---\n",
    "Prueba del Ejercicio 3"
   ]
  },
  {
   "cell_type": "code",
   "execution_count": null,
   "metadata": {
    "editable": false,
    "slideshow": {
     "slide_type": ""
    },
    "tags": []
   },
   "outputs": [],
   "source": [
    "import unittest\n",
    "\n",
    "# Prueba de Ejercicio03\n",
    "class TestEjercicio03(unittest.TestCase):\n",
    "    def test_ejercicio3(self):\n",
    "        puntos = Pila[Punto]()\n",
    "        self.assertIsNone(punto_mas_lejano(puntos))\n",
    "\n",
    "        puntos.apilar(Punto(2.0, 4.0))\n",
    "        puntos.apilar(Punto(-5.0, 1.0))\n",
    "        puntos.apilar(Punto(0.0, -4.0))\n",
    "        puntos.apilar(Punto(1.0, -24.0))\n",
    "        puntos.apilar(Punto(-90.0, -45.0))\n",
    "        puntos.apilar(Punto(10.0, -25.0))\n",
    "        puntos.apilar(Punto(0.0, 0.0))\n",
    "        puntos.apilar(Punto(-12.0, -35.0))\n",
    "        puntos.apilar(Punto(10.0, 0.0))\n",
    "        puntos.apilar(Punto(-80.0, -35.0))\n",
    "\n",
    "        self.assertEqual(Punto(-90.0, -45.0), punto_mas_lejano(puntos))\n",
    "        print(\"Prueba Superada ✔\")\n",
    "\n",
    "# -------------------------------------------------------\n",
    "unittest.main(argv=['', '-v', 'TestEjercicio03'], verbosity=2, exit=False);"
   ]
  },
  {
   "cell_type": "markdown",
   "metadata": {
    "editable": false,
    "slideshow": {
     "slide_type": ""
    },
    "tags": []
   },
   "source": [
    "## Ejercicio 04: Suma de Pares\n",
    "\n",
    "Escriba una función llamada `suma_pares_tres_digitos` que reciba una pila de números enteros y que retorne la suma de los números pares de tres cifras que hay en la pila. **La pila original no debe verse modificada**"
   ]
  },
  {
   "cell_type": "code",
   "execution_count": null,
   "metadata": {
    "editable": true,
    "slideshow": {
     "slide_type": ""
    },
    "tags": []
   },
   "outputs": [],
   "source": [
    "# Ejercicio 04\n"
   ]
  },
  {
   "cell_type": "markdown",
   "metadata": {
    "editable": false,
    "slideshow": {
     "slide_type": ""
    },
    "tags": []
   },
   "source": [
    "---\n",
    "Prueba del Ejercicio04"
   ]
  },
  {
   "cell_type": "code",
   "execution_count": null,
   "metadata": {
    "editable": false,
    "slideshow": {
     "slide_type": ""
    },
    "tags": []
   },
   "outputs": [],
   "source": [
    "import unittest\n",
    "\n",
    "# Prueba de Ejercicio03\n",
    "class TestEjercicio04(unittest.TestCase):\n",
    "    def test_ejercicio4(self):\n",
    "        pila = Pila[int]()\n",
    "\n",
    "        pila.apilar(4)\n",
    "        pila.apilar(17)\n",
    "        pila.apilar(61)\n",
    "        pila.apilar(16)\n",
    "        pila.apilar(38)\n",
    "        pila.apilar(519)\n",
    "        pila.apilar(178)\n",
    "        pila.apilar(180)\n",
    "        pila.apilar(96)\n",
    "        pila.apilar(5)\n",
    "        \n",
    "        self.assertEqual(358, suma_pares_tres_digitos(pila))\n",
    "\n",
    "        pila = Pila[int]()\n",
    "        \n",
    "        pila.apilar(4)\n",
    "        pila.apilar(17)\n",
    "        pila.apilar(61)\n",
    "        pila.apilar(161)\n",
    "        pila.apilar(381)\n",
    "        pila.apilar(5191)\n",
    "        pila.apilar(1781)\n",
    "        pila.apilar(1801)\n",
    "        pila.apilar(96)\n",
    "        pila.apilar(5)\n",
    "        pila.apilar(200)\n",
    "\n",
    "        self.assertEqual(200, suma_pares_tres_digitos(pila))\n",
    "\n",
    "        print(\"Prueba superada 👍\")\n",
    "\n",
    "# -------------------------------------------------------\n",
    "unittest.main(argv=['', '-v', 'TestEjercicio04'], verbosity=2, exit=False);"
   ]
  },
  {
   "cell_type": "markdown",
   "metadata": {
    "editable": false,
    "slideshow": {
     "slide_type": ""
    },
    "tags": []
   },
   "source": [
    "---\n",
    "\n",
    "## Ejercicio 05: obtener el fondo de la pila\n",
    "\n",
    "Escriba una función en python llamada `fondo_pila` que reciba una pila de números enteros y que retorne el elemento que se encuentra en el fondo de la pila. **La pila original no debe verse modificada**."
   ]
  },
  {
   "cell_type": "code",
   "execution_count": null,
   "metadata": {
    "editable": true,
    "slideshow": {
     "slide_type": ""
    },
    "tags": []
   },
   "outputs": [],
   "source": [
    "# Escribir la función 05\n",
    "def fondo_pila(pila: Pila[int]) -> int:\n",
    "    pass"
   ]
  },
  {
   "cell_type": "markdown",
   "metadata": {
    "editable": false,
    "slideshow": {
     "slide_type": ""
    },
    "tags": []
   },
   "source": [
    "---\n",
    "Prueba del Ejercicio 05"
   ]
  },
  {
   "cell_type": "code",
   "execution_count": null,
   "metadata": {
    "editable": false,
    "slideshow": {
     "slide_type": ""
    },
    "tags": []
   },
   "outputs": [],
   "source": [
    "import unittest\n",
    "\n",
    "# Prueba de Ejercicio03\n",
    "class TestEjercicio05(unittest.TestCase):\n",
    "    def test_ejercicio5(self):\n",
    "        pila = Pila[int]()\n",
    "\n",
    "        pila.apilar(4)\n",
    "        pila.apilar(17)\n",
    "        pila.apilar(61)\n",
    "        pila.apilar(16)\n",
    "        pila.apilar(38)\n",
    "        pila.apilar(519)\n",
    "        pila.apilar(178)\n",
    "        pila.apilar(180)\n",
    "        pila.apilar(96)\n",
    "        pila.apilar(5)\n",
    "        \n",
    "        self.assertEqual(4, fondo_pila(pila))\n",
    "        print(\"Prueba superda 😊 \")\n",
    "\n",
    "\n",
    "# -------------------------------------------------------\n",
    "unittest.main(argv=['', '-v', 'TestEjercicio05'], verbosity=2, exit=False);\n"
   ]
  }
 ],
 "metadata": {
  "kernelspec": {
   "display_name": "Python 3 (ipykernel)",
   "language": "python",
   "name": "python3"
  },
  "language_info": {
   "codemirror_mode": {
    "name": "ipython",
    "version": 3
   },
   "file_extension": ".py",
   "mimetype": "text/x-python",
   "name": "python",
   "nbconvert_exporter": "python",
   "pygments_lexer": "ipython3",
   "version": "3.12.2"
  }
 },
 "nbformat": 4,
 "nbformat_minor": 4
}
